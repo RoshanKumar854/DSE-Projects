{
  "nbformat": 4,
  "nbformat_minor": 0,
  "metadata": {
    "colab": {
      "name": "Trix Project 1.ipynb",
      "provenance": [],
      "authorship_tag": "ABX9TyOjn2aQeD5NcTuRXopZ1PZi",
      "include_colab_link": true
    },
    "kernelspec": {
      "name": "python3",
      "display_name": "Python 3"
    },
    "language_info": {
      "name": "python"
    }
  },
  "cells": [
    {
      "cell_type": "markdown",
      "metadata": {
        "id": "view-in-github",
        "colab_type": "text"
      },
      "source": [
        "<a href=\"https://colab.research.google.com/github/RoshanKumar854/DSE-Projects/blob/main/Trix_Project_1.ipynb\" target=\"_parent\"><img src=\"https://colab.research.google.com/assets/colab-badge.svg\" alt=\"Open In Colab\"/></a>"
      ]
    },
    {
      "cell_type": "code",
      "metadata": {
        "id": "o_QLOHs28i3y"
      },
      "source": [
        "import numpy as np\n",
        "import pandas as pd\n",
        "import matplotlib.pyplot as plt"
      ],
      "execution_count": 1,
      "outputs": []
    },
    {
      "cell_type": "code",
      "metadata": {
        "id": "YZv_2XZC8-7t"
      },
      "source": [
        "df = pd.read_csv('Data.csv')"
      ],
      "execution_count": 2,
      "outputs": []
    },
    {
      "cell_type": "code",
      "metadata": {
        "id": "CbCkd2os-Ewm"
      },
      "source": [
        "print(df)"
      ],
      "execution_count": null,
      "outputs": []
    },
    {
      "cell_type": "code",
      "metadata": {
        "id": "aBdZZ5JP-Bdf"
      },
      "source": [
        "x = df[['Runs','Avg','SR','4s','6s']]\n",
        "y = df['Auction Price']"
      ],
      "execution_count": 3,
      "outputs": []
    },
    {
      "cell_type": "code",
      "metadata": {
        "colab": {
          "base_uri": "https://localhost:8080/"
        },
        "id": "LI8LC0d9-asa",
        "outputId": "5f80c48f-6223-40cb-84bd-a12b8385e5d2"
      },
      "source": [
        "print(x)"
      ],
      "execution_count": 51,
      "outputs": [
        {
          "output_type": "stream",
          "name": "stdout",
          "text": [
            "     Runs    Avg      SR  4s  6s\n",
            "0     608  67.55  183.13  57  44\n",
            "1     557  46.41  121.08  55  16\n",
            "2     553  42.53  113.31  67   5\n",
            "3     504  42.00  146.51  52  20\n",
            "4     492  41.00  118.84  53   6\n",
            "..    ...    ...     ...  ..  ..\n",
            "145     4  20.00   80.00   0   0\n",
            "146     4  20.00  200.00   0   0\n",
            "147     4  20.00  133.33   0   0\n",
            "148     4   4.00   57.14   0   0\n",
            "149     3   3.00   50.00   0   0\n",
            "\n",
            "[150 rows x 5 columns]\n"
          ]
        }
      ]
    },
    {
      "cell_type": "code",
      "metadata": {
        "colab": {
          "base_uri": "https://localhost:8080/"
        },
        "id": "r3MjudmP-c17",
        "outputId": "37fe2f87-ae1e-4de9-e654-d5630f98c4a4"
      },
      "source": [
        "print(y)"
      ],
      "execution_count": 52,
      "outputs": [
        {
          "output_type": "stream",
          "name": "stdout",
          "text": [
            "0       650000\n",
            "1      1800000\n",
            "2      1800000\n",
            "3       400000\n",
            "4       425000\n",
            "        ...   \n",
            "145     450000\n",
            "146     500000\n",
            "147      65000\n",
            "148      65000\n",
            "149      45000\n",
            "Name: Auction Price, Length: 150, dtype: int64\n"
          ]
        }
      ]
    },
    {
      "cell_type": "code",
      "metadata": {
        "colab": {
          "base_uri": "https://localhost:8080/",
          "height": 582
        },
        "id": "OJlIgfQV_yAP",
        "outputId": "a5548ab4-d11b-44b0-9e9e-7d51909caf84"
      },
      "source": [
        "import statsmodels.api as sm\n",
        "x = sm.add_constant(x)\n",
        "model = sm.OLS(y.astype(float), x.astype(float)).fit()\n",
        "model.summary()"
      ],
      "execution_count": 4,
      "outputs": [
        {
          "output_type": "stream",
          "name": "stderr",
          "text": [
            "/usr/local/lib/python3.7/dist-packages/statsmodels/tools/_testing.py:19: FutureWarning: pandas.util.testing is deprecated. Use the functions in the public API at pandas.testing instead.\n",
            "  import pandas.util.testing as tm\n"
          ]
        },
        {
          "output_type": "execute_result",
          "data": {
            "text/html": [
              "<table class=\"simpletable\">\n",
              "<caption>OLS Regression Results</caption>\n",
              "<tr>\n",
              "  <th>Dep. Variable:</th>      <td>Auction Price</td>  <th>  R-squared:         </th> <td>   0.333</td>\n",
              "</tr>\n",
              "<tr>\n",
              "  <th>Model:</th>                   <td>OLS</td>       <th>  Adj. R-squared:    </th> <td>   0.309</td>\n",
              "</tr>\n",
              "<tr>\n",
              "  <th>Method:</th>             <td>Least Squares</td>  <th>  F-statistic:       </th> <td>   14.35</td>\n",
              "</tr>\n",
              "<tr>\n",
              "  <th>Date:</th>             <td>Fri, 19 Nov 2021</td> <th>  Prob (F-statistic):</th> <td>2.14e-11</td>\n",
              "</tr>\n",
              "<tr>\n",
              "  <th>Time:</th>                 <td>04:22:57</td>     <th>  Log-Likelihood:    </th> <td> -2159.1</td>\n",
              "</tr>\n",
              "<tr>\n",
              "  <th>No. Observations:</th>      <td>   150</td>      <th>  AIC:               </th> <td>   4330.</td>\n",
              "</tr>\n",
              "<tr>\n",
              "  <th>Df Residuals:</th>          <td>   144</td>      <th>  BIC:               </th> <td>   4348.</td>\n",
              "</tr>\n",
              "<tr>\n",
              "  <th>Df Model:</th>              <td>     5</td>      <th>                     </th>     <td> </td>   \n",
              "</tr>\n",
              "<tr>\n",
              "  <th>Covariance Type:</th>      <td>nonrobust</td>    <th>                     </th>     <td> </td>   \n",
              "</tr>\n",
              "</table>\n",
              "<table class=\"simpletable\">\n",
              "<tr>\n",
              "    <td></td>       <th>coef</th>     <th>std err</th>      <th>t</th>      <th>P>|t|</th>  <th>[0.025</th>    <th>0.975]</th>  \n",
              "</tr>\n",
              "<tr>\n",
              "  <th>const</th> <td> 2.122e+05</td> <td> 1.48e+05</td> <td>    1.433</td> <td> 0.154</td> <td>-8.05e+04</td> <td> 5.05e+05</td>\n",
              "</tr>\n",
              "<tr>\n",
              "  <th>Runs</th>  <td> 6754.8721</td> <td> 1505.877</td> <td>    4.486</td> <td> 0.000</td> <td> 3778.394</td> <td> 9731.351</td>\n",
              "</tr>\n",
              "<tr>\n",
              "  <th>Avg</th>   <td>-3445.2064</td> <td> 4262.920</td> <td>   -0.808</td> <td> 0.420</td> <td>-1.19e+04</td> <td> 4980.775</td>\n",
              "</tr>\n",
              "<tr>\n",
              "  <th>SR</th>    <td>  -23.4782</td> <td> 1342.264</td> <td>   -0.017</td> <td> 0.986</td> <td>-2676.564</td> <td> 2629.607</td>\n",
              "</tr>\n",
              "<tr>\n",
              "  <th>4s</th>    <td>-3.616e+04</td> <td> 1.11e+04</td> <td>   -3.261</td> <td> 0.001</td> <td>-5.81e+04</td> <td>-1.42e+04</td>\n",
              "</tr>\n",
              "<tr>\n",
              "  <th>6s</th>    <td>-2.919e+04</td> <td> 1.28e+04</td> <td>   -2.285</td> <td> 0.024</td> <td>-5.44e+04</td> <td>-3941.839</td>\n",
              "</tr>\n",
              "</table>\n",
              "<table class=\"simpletable\">\n",
              "<tr>\n",
              "  <th>Omnibus:</th>       <td>36.396</td> <th>  Durbin-Watson:     </th> <td>   1.837</td>\n",
              "</tr>\n",
              "<tr>\n",
              "  <th>Prob(Omnibus):</th> <td> 0.000</td> <th>  Jarque-Bera (JB):  </th> <td>  59.788</td>\n",
              "</tr>\n",
              "<tr>\n",
              "  <th>Skew:</th>          <td> 1.198</td> <th>  Prob(JB):          </th> <td>1.04e-13</td>\n",
              "</tr>\n",
              "<tr>\n",
              "  <th>Kurtosis:</th>      <td> 4.956</td> <th>  Cond. No.          </th> <td>    913.</td>\n",
              "</tr>\n",
              "</table><br/><br/>Warnings:<br/>[1] Standard Errors assume that the covariance matrix of the errors is correctly specified."
            ],
            "text/plain": [
              "<class 'statsmodels.iolib.summary.Summary'>\n",
              "\"\"\"\n",
              "                            OLS Regression Results                            \n",
              "==============================================================================\n",
              "Dep. Variable:          Auction Price   R-squared:                       0.333\n",
              "Model:                            OLS   Adj. R-squared:                  0.309\n",
              "Method:                 Least Squares   F-statistic:                     14.35\n",
              "Date:                Fri, 19 Nov 2021   Prob (F-statistic):           2.14e-11\n",
              "Time:                        04:22:57   Log-Likelihood:                -2159.1\n",
              "No. Observations:                 150   AIC:                             4330.\n",
              "Df Residuals:                     144   BIC:                             4348.\n",
              "Df Model:                           5                                         \n",
              "Covariance Type:            nonrobust                                         \n",
              "==============================================================================\n",
              "                 coef    std err          t      P>|t|      [0.025      0.975]\n",
              "------------------------------------------------------------------------------\n",
              "const       2.122e+05   1.48e+05      1.433      0.154   -8.05e+04    5.05e+05\n",
              "Runs        6754.8721   1505.877      4.486      0.000    3778.394    9731.351\n",
              "Avg        -3445.2064   4262.920     -0.808      0.420   -1.19e+04    4980.775\n",
              "SR           -23.4782   1342.264     -0.017      0.986   -2676.564    2629.607\n",
              "4s         -3.616e+04   1.11e+04     -3.261      0.001   -5.81e+04   -1.42e+04\n",
              "6s         -2.919e+04   1.28e+04     -2.285      0.024   -5.44e+04   -3941.839\n",
              "==============================================================================\n",
              "Omnibus:                       36.396   Durbin-Watson:                   1.837\n",
              "Prob(Omnibus):                  0.000   Jarque-Bera (JB):               59.788\n",
              "Skew:                           1.198   Prob(JB):                     1.04e-13\n",
              "Kurtosis:                       4.956   Cond. No.                         913.\n",
              "==============================================================================\n",
              "\n",
              "Warnings:\n",
              "[1] Standard Errors assume that the covariance matrix of the errors is correctly specified.\n",
              "\"\"\""
            ]
          },
          "metadata": {},
          "execution_count": 4
        }
      ]
    },
    {
      "cell_type": "code",
      "metadata": {
        "colab": {
          "base_uri": "https://localhost:8080/",
          "height": 513
        },
        "id": "6oe9aY6hbhCJ",
        "outputId": "416bd8f2-5fc7-4633-c277-81256b3ddb1d"
      },
      "source": [
        "import matplotlib.pyplot as plt\n",
        "plt.rc('figure', figsize=(12, 7))\n",
        "plt.text(0.01, 0.05, str(model.summary()), {'fontsize': 10}, fontproperties = 'monospace')\n",
        "plt.axis('off')\n",
        "plt.tight_layout()\n",
        "plt.savefig('output.png')"
      ],
      "execution_count": 5,
      "outputs": [
        {
          "output_type": "display_data",
          "data": {
            "image/png": "[encoded data removed]",
            "text/plain": [
              "<Figure size 864x504 with 1 Axes>"
            ]
          },
          "metadata": {
            "needs_background": "light"
          }
        }
      ]
    },
    {
      "cell_type": "code",
      "metadata": {
        "id": "r_QtBxl8fHwl"
      },
      "source": [
        "import scipy.stats as stats\n",
        "import math"
      ],
      "execution_count": 6,
      "outputs": []
    },
    {
      "cell_type": "code",
      "metadata": {
        "colab": {
          "base_uri": "https://localhost:8080/",
          "height": 130
        },
        "id": "BrpfgdCSv-CJ",
        "outputId": "7a6b7b3d-45c0-4564-96c9-4b62f856d19d"
      },
      "source": [
        "stats.ttest_1samp(a = df['Runs'],population mean=6754.8721)"
      ],
      "execution_count": 7,
      "outputs": [
        {
          "output_type": "error",
          "ename": "SyntaxError",
          "evalue": "ignored",
          "traceback": [
            "\u001b[0;36m  File \u001b[0;32m\"<ipython-input-7-c0811fedae5a>\"\u001b[0;36m, line \u001b[0;32m1\u001b[0m\n\u001b[0;31m    stats.ttest_1samp(a = df['Runs'],population mean=6754.8721)\u001b[0m\n\u001b[0m                                                   ^\u001b[0m\n\u001b[0;31mSyntaxError\u001b[0m\u001b[0;31m:\u001b[0m invalid syntax\n"
          ]
        }
      ]
    },
    {
      "cell_type": "code",
      "metadata": {
        "id": "ngHNOgyH21zB",
        "outputId": "14fa3b9b-f5c0-4141-d0db-fd4aff36133a",
        "colab": {
          "base_uri": "https://localhost:8080/"
        }
      },
      "source": [
        "(ord(\"a\") & 31)"
      ],
      "execution_count": 2,
      "outputs": [
        {
          "output_type": "execute_result",
          "data": {
            "text/plain": [
              "1"
            ]
          },
          "metadata": {},
          "execution_count": 2
        }
      ]
    }
  ]
}