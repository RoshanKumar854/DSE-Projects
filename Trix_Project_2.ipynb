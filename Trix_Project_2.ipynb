{
  "nbformat": 4,
  "nbformat_minor": 0,
  "metadata": {
    "colab": {
      "name": "Trix Project 2.ipynb",
      "provenance": [],
      "authorship_tag": "ABX9TyOn6HAN6Nz75koM+IrCC3aj",
      "include_colab_link": true
    },
    "kernelspec": {
      "name": "python3",
      "display_name": "Python 3"
    },
    "language_info": {
      "name": "python"
    }
  },
  "cells": [
    {
      "cell_type": "markdown",
      "metadata": {
        "id": "view-in-github",
        "colab_type": "text"
      },
      "source": [
        "<a href=\"https://colab.research.google.com/github/RoshanKumar854/DSE-Projects/blob/main/Trix_Project_2.ipynb\" target=\"_parent\"><img src=\"https://colab.research.google.com/assets/colab-badge.svg\" alt=\"Open In Colab\"/></a>"
      ]
    },
    {
      "cell_type": "code",
      "metadata": {
        "id": "o_QLOHs28i3y"
      },
      "source": [
        "import numpy as np\n",
        "import pandas as pd\n",
        "import matplotlib.pyplot as plt"
      ],
      "execution_count": 23,
      "outputs": []
    },
    {
      "cell_type": "code",
      "metadata": {
        "id": "YZv_2XZC8-7t"
      },
      "source": [
        "df = pd.read_csv('wage.csv')"
      ],
      "execution_count": 24,
      "outputs": []
    },
    {
      "cell_type": "code",
      "metadata": {
        "colab": {
          "base_uri": "https://localhost:8080/"
        },
        "id": "CbCkd2os-Ewm",
        "outputId": "c95fd61f-8fb7-4986-96e9-cb19477108f4"
      },
      "source": [
        "print(df)"
      ],
      "execution_count": 25,
      "outputs": [
        {
          "output_type": "stream",
          "name": "stdout",
          "text": [
            "      Unnamed: 0  year  age  ... health_ins   logwage        wage\n",
            "0         231655  2006   18  ...      2. No  4.318063   75.043154\n",
            "1          86582  2004   24  ...      2. No  4.255273   70.476020\n",
            "2         161300  2003   45  ...     1. Yes  4.875061  130.982177\n",
            "3         155159  2003   43  ...     1. Yes  5.041393  154.685293\n",
            "4          11443  2005   50  ...     1. Yes  4.318063   75.043154\n",
            "...          ...   ...  ...  ...        ...       ...         ...\n",
            "2995      376816  2008   44  ...     1. Yes  5.041393  154.685293\n",
            "2996      302281  2007   30  ...      2. No  4.602060   99.689464\n",
            "2997       10033  2005   27  ...      2. No  4.193125   66.229408\n",
            "2998       14375  2005   27  ...     1. Yes  4.477121   87.981033\n",
            "2999      453557  2009   55  ...     1. Yes  4.505150   90.481913\n",
            "\n",
            "[3000 rows x 12 columns]\n"
          ]
        }
      ]
    },
    {
      "cell_type": "code",
      "metadata": {
        "id": "JxJJtDueg6cT"
      },
      "source": [
        ""
      ],
      "execution_count": 26,
      "outputs": []
    },
    {
      "cell_type": "code",
      "metadata": {
        "id": "1l1hCUX_l4x_",
        "outputId": "e73077d3-669e-440d-dc6f-d86762128520",
        "colab": {
          "base_uri": "https://localhost:8080/"
        }
      },
      "source": [
        "print(x)"
      ],
      "execution_count": 27,
      "outputs": [
        {
          "output_type": "stream",
          "name": "stdout",
          "text": [
            "      age      education     health\n",
            "0      18      < HS Grad       Good\n",
            "1      24   College Grad  Very Good\n",
            "2      45   Some College       Good\n",
            "3      43   College Grad  Very Good\n",
            "4      50        HS Grad       Good\n",
            "...   ...            ...        ...\n",
            "2995   44   Some College  Very Good\n",
            "2996   30        HS Grad  Very Good\n",
            "2997   27      < HS Grad       Good\n",
            "2998   27   Some College  Very Good\n",
            "2999   55        HS Grad       Good\n",
            "\n",
            "[3000 rows x 3 columns]\n"
          ]
        }
      ]
    },
    {
      "cell_type": "code",
      "metadata": {
        "id": "TROnb57c_C_O"
      },
      "source": [
        "from sklearn import preprocessing \n",
        "label_encoder = preprocessing.LabelEncoder() \n",
        "df['education'] = label_encoder.fit_transform(df['education']) \n",
        "df['health'] = label_encoder.fit_transform(df['health'])"
      ],
      "execution_count": 44,
      "outputs": []
    },
    {
      "cell_type": "code",
      "metadata": {
        "id": "5ziAQ4txAr7Y",
        "outputId": "5962f014-04f4-4e3d-e1c6-c9c134e6f90d",
        "colab": {
          "base_uri": "https://localhost:8080/"
        }
      },
      "source": [
        "df['education']\n",
        "df['health']"
      ],
      "execution_count": 45,
      "outputs": [
        {
          "output_type": "execute_result",
          "data": {
            "text/plain": [
              "0       0\n",
              "1       1\n",
              "2       0\n",
              "3       1\n",
              "4       0\n",
              "       ..\n",
              "2995    1\n",
              "2996    1\n",
              "2997    0\n",
              "2998    1\n",
              "2999    0\n",
              "Name: health, Length: 3000, dtype: int64"
            ]
          },
          "metadata": {},
          "execution_count": 45
        }
      ]
    },
    {
      "cell_type": "code",
      "metadata": {
        "id": "3gWhwZIY_u9X"
      },
      "source": [
        "x = df[['age','education','health']]\n",
        "y = df['logwage']"
      ],
      "execution_count": 46,
      "outputs": []
    },
    {
      "cell_type": "code",
      "metadata": {
        "id": "ABB5-oaUk_59",
        "outputId": "e85d0591-1d4f-4c0f-9b39-39d6b1be0d3a",
        "colab": {
          "base_uri": "https://localhost:8080/"
        }
      },
      "source": [
        "print(x)"
      ],
      "execution_count": 47,
      "outputs": [
        {
          "output_type": "stream",
          "name": "stdout",
          "text": [
            "      age  education  health\n",
            "0      18          0       0\n",
            "1      24          2       1\n",
            "2      45          4       0\n",
            "3      43          2       1\n",
            "4      50          3       0\n",
            "...   ...        ...     ...\n",
            "2995   44          4       1\n",
            "2996   30          3       1\n",
            "2997   27          0       0\n",
            "2998   27          4       1\n",
            "2999   55          3       0\n",
            "\n",
            "[3000 rows x 3 columns]\n"
          ]
        }
      ]
    },
    {
      "cell_type": "code",
      "metadata": {
        "id": "6PJGsoQwfV5u",
        "outputId": "f4b78458-8695-4a03-84b6-ead3742d3e5b",
        "colab": {
          "base_uri": "https://localhost:8080/"
        }
      },
      "source": [
        "import statsmodels.api as sm\n",
        "x = sm.add_constant(x)\n",
        "model1 = sm.OLS(y, x).fit()\n",
        "results1=model1.summary(alpha=0.05)\n",
        "print(results1)"
      ],
      "execution_count": 48,
      "outputs": [
        {
          "output_type": "stream",
          "name": "stdout",
          "text": [
            "                            OLS Regression Results                            \n",
            "==============================================================================\n",
            "Dep. Variable:                logwage   R-squared:                       0.092\n",
            "Model:                            OLS   Adj. R-squared:                  0.091\n",
            "Method:                 Least Squares   F-statistic:                     100.7\n",
            "Date:                Fri, 19 Nov 2021   Prob (F-statistic):           4.44e-62\n",
            "Time:                        11:46:15   Log-Likelihood:                -977.79\n",
            "No. Observations:                3000   AIC:                             1964.\n",
            "Df Residuals:                    2996   BIC:                             1988.\n",
            "Df Model:                           3                                         \n",
            "Covariance Type:            nonrobust                                         \n",
            "==============================================================================\n",
            "                 coef    std err          t      P>|t|      [0.025      0.975]\n",
            "------------------------------------------------------------------------------\n",
            "const          4.3042      0.030    141.985      0.000       4.245       4.364\n",
            "age            0.0072      0.001     13.487      0.000       0.006       0.008\n",
            "education     -0.0255      0.005     -5.085      0.000      -0.035      -0.016\n",
            "health         0.1463      0.014     10.681      0.000       0.119       0.173\n",
            "==============================================================================\n",
            "Omnibus:                      146.761   Durbin-Watson:                   1.979\n",
            "Prob(Omnibus):                  0.000   Jarque-Bera (JB):              422.153\n",
            "Skew:                          -0.209   Prob(JB):                     2.14e-92\n",
            "Kurtosis:                       4.789   Cond. No.                         224.\n",
            "==============================================================================\n",
            "\n",
            "Warnings:\n",
            "[1] Standard Errors assume that the covariance matrix of the errors is correctly specified.\n"
          ]
        }
      ]
    },
    {
      "cell_type": "code",
      "metadata": {
        "id": "y70bSfHxm_MI",
        "outputId": "3f50c696-bf28-4677-a691-e6802ec8def4",
        "colab": {
          "base_uri": "https://localhost:8080/",
          "height": 513
        }
      },
      "source": [
        "import matplotlib.pyplot as plt\n",
        "plt.rc('figure', figsize=(12, 7))\n",
        "plt.text(0.01, 0.05, str(model1.summary()), {'fontsize': 12}, fontproperties = 'monospace')\n",
        "plt.axis('off')\n",
        "plt.tight_layout()\n",
        "plt.savefig('Result1.png')"
      ],
      "execution_count": 50,
      "outputs": [
        {
          "output_type": "display_data",
          "data": {
            "image/png": "[encoded data removed]",
            "text/plain": [
              "<Figure size 864x504 with 1 Axes>"
            ]
          },
          "metadata": {
            "needs_background": "light"
          }
        }
      ]
    },
    {
      "cell_type": "code",
      "metadata": {
        "id": "bA2VPYV47tcX"
      },
      "source": [
        "x = df['health']\n",
        "y = df['age']"
      ],
      "execution_count": 51,
      "outputs": []
    },
    {
      "cell_type": "code",
      "metadata": {
        "id": "-OFWD1zUCLDT"
      },
      "source": [
        ""
      ],
      "execution_count": null,
      "outputs": []
    },
    {
      "cell_type": "code",
      "metadata": {
        "id": "8kccUVqtB9RN"
      },
      "source": [
        ""
      ],
      "execution_count": null,
      "outputs": []
    }
  ]
}