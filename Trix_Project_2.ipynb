{
  "nbformat": 4,
  "nbformat_minor": 0,
  "metadata": {
    "colab": {
      "name": "Trix Project 2.ipynb",
      "provenance": [],
      "authorship_tag": "ABX9TyMahGDml8Bvtt47hwpn4w1n",
      "include_colab_link": true
    },
    "kernelspec": {
      "name": "python3",
      "display_name": "Python 3"
    },
    "language_info": {
      "name": "python"
    }
  },
  "cells": [
    {
      "cell_type": "markdown",
      "metadata": {
        "id": "view-in-github",
        "colab_type": "text"
      },
      "source": [
        "<a href=\"https://colab.research.google.com/github/RoshanKumar854/DSE-Projects/blob/main/Trix_Project_2.ipynb\" target=\"_parent\"><img src=\"https://colab.research.google.com/assets/colab-badge.svg\" alt=\"Open In Colab\"/></a>"
      ]
    },
    {
      "cell_type": "code",
      "metadata": {
        "id": "o_QLOHs28i3y"
      },
      "source": [
        "import numpy as np\n",
        "import pandas as pd\n",
        "import matplotlib.pyplot as plt"
      ],
      "execution_count": 23,
      "outputs": []
    },
    {
      "cell_type": "code",
      "metadata": {
        "id": "YZv_2XZC8-7t"
      },
      "source": [
        "df = pd.read_csv('wage.csv')"
      ],
      "execution_count": 128,
      "outputs": []
    },
    {
      "cell_type": "code",
      "metadata": {
        "colab": {
          "base_uri": "https://localhost:8080/"
        },
        "id": "CbCkd2os-Ewm",
        "outputId": "c95fd61f-8fb7-4986-96e9-cb19477108f4"
      },
      "source": [
        "print(df)"
      ],
      "execution_count": 25,
      "outputs": [
        {
          "output_type": "stream",
          "name": "stdout",
          "text": [
            "      Unnamed: 0  year  age  ... health_ins   logwage        wage\n",
            "0         231655  2006   18  ...      2. No  4.318063   75.043154\n",
            "1          86582  2004   24  ...      2. No  4.255273   70.476020\n",
            "2         161300  2003   45  ...     1. Yes  4.875061  130.982177\n",
            "3         155159  2003   43  ...     1. Yes  5.041393  154.685293\n",
            "4          11443  2005   50  ...     1. Yes  4.318063   75.043154\n",
            "...          ...   ...  ...  ...        ...       ...         ...\n",
            "2995      376816  2008   44  ...     1. Yes  5.041393  154.685293\n",
            "2996      302281  2007   30  ...      2. No  4.602060   99.689464\n",
            "2997       10033  2005   27  ...      2. No  4.193125   66.229408\n",
            "2998       14375  2005   27  ...     1. Yes  4.477121   87.981033\n",
            "2999      453557  2009   55  ...     1. Yes  4.505150   90.481913\n",
            "\n",
            "[3000 rows x 12 columns]\n"
          ]
        }
      ]
    },
    {
      "cell_type": "code",
      "metadata": {
        "id": "JxJJtDueg6cT"
      },
      "source": [
        ""
      ],
      "execution_count": 26,
      "outputs": []
    },
    {
      "cell_type": "code",
      "metadata": {
        "colab": {
          "base_uri": "https://localhost:8080/"
        },
        "id": "1l1hCUX_l4x_",
        "outputId": "e73077d3-669e-440d-dc6f-d86762128520"
      },
      "source": [
        "print(x)"
      ],
      "execution_count": 27,
      "outputs": [
        {
          "output_type": "stream",
          "name": "stdout",
          "text": [
            "      age      education     health\n",
            "0      18      < HS Grad       Good\n",
            "1      24   College Grad  Very Good\n",
            "2      45   Some College       Good\n",
            "3      43   College Grad  Very Good\n",
            "4      50        HS Grad       Good\n",
            "...   ...            ...        ...\n",
            "2995   44   Some College  Very Good\n",
            "2996   30        HS Grad  Very Good\n",
            "2997   27      < HS Grad       Good\n",
            "2998   27   Some College  Very Good\n",
            "2999   55        HS Grad       Good\n",
            "\n",
            "[3000 rows x 3 columns]\n"
          ]
        }
      ]
    },
    {
      "cell_type": "code",
      "metadata": {
        "id": "TROnb57c_C_O"
      },
      "source": [
        "from sklearn import preprocessing \n",
        "label_encoder = preprocessing.LabelEncoder() \n",
        "df['education'] = label_encoder.fit_transform(df['education']) \n",
        "df['health'] = label_encoder.fit_transform(df['health'])"
      ],
      "execution_count": 44,
      "outputs": []
    },
    {
      "cell_type": "code",
      "metadata": {
        "colab": {
          "base_uri": "https://localhost:8080/"
        },
        "id": "5ziAQ4txAr7Y",
        "outputId": "5962f014-04f4-4e3d-e1c6-c9c134e6f90d"
      },
      "source": [
        "df['education']\n",
        "df['health']"
      ],
      "execution_count": 45,
      "outputs": [
        {
          "output_type": "execute_result",
          "data": {
            "text/plain": [
              "0       0\n",
              "1       1\n",
              "2       0\n",
              "3       1\n",
              "4       0\n",
              "       ..\n",
              "2995    1\n",
              "2996    1\n",
              "2997    0\n",
              "2998    1\n",
              "2999    0\n",
              "Name: health, Length: 3000, dtype: int64"
            ]
          },
          "metadata": {},
          "execution_count": 45
        }
      ]
    },
    {
      "cell_type": "code",
      "metadata": {
        "id": "3gWhwZIY_u9X"
      },
      "source": [
        "x = df[['age','education','health']]\n",
        "y = df['logwage']"
      ],
      "execution_count": 56,
      "outputs": []
    },
    {
      "cell_type": "code",
      "metadata": {
        "colab": {
          "base_uri": "https://localhost:8080/"
        },
        "id": "ABB5-oaUk_59",
        "outputId": "e85d0591-1d4f-4c0f-9b39-39d6b1be0d3a"
      },
      "source": [
        "print(x)"
      ],
      "execution_count": 47,
      "outputs": [
        {
          "output_type": "stream",
          "name": "stdout",
          "text": [
            "      age  education  health\n",
            "0      18          0       0\n",
            "1      24          2       1\n",
            "2      45          4       0\n",
            "3      43          2       1\n",
            "4      50          3       0\n",
            "...   ...        ...     ...\n",
            "2995   44          4       1\n",
            "2996   30          3       1\n",
            "2997   27          0       0\n",
            "2998   27          4       1\n",
            "2999   55          3       0\n",
            "\n",
            "[3000 rows x 3 columns]\n"
          ]
        }
      ]
    },
    {
      "cell_type": "code",
      "metadata": {
        "colab": {
          "base_uri": "https://localhost:8080/"
        },
        "id": "6PJGsoQwfV5u",
        "outputId": "f4b78458-8695-4a03-84b6-ead3742d3e5b"
      },
      "source": [
        "import statsmodels.api as sm\n",
        "x = sm.add_constant(x)\n",
        "model1 = sm.OLS(y, x).fit()\n",
        "results1=model1.summary(alpha=0.05)\n",
        "print(results1)"
      ],
      "execution_count": 48,
      "outputs": [
        {
          "output_type": "stream",
          "name": "stdout",
          "text": [
            "                            OLS Regression Results                            \n",
            "==============================================================================\n",
            "Dep. Variable:                logwage   R-squared:                       0.092\n",
            "Model:                            OLS   Adj. R-squared:                  0.091\n",
            "Method:                 Least Squares   F-statistic:                     100.7\n",
            "Date:                Fri, 19 Nov 2021   Prob (F-statistic):           4.44e-62\n",
            "Time:                        11:46:15   Log-Likelihood:                -977.79\n",
            "No. Observations:                3000   AIC:                             1964.\n",
            "Df Residuals:                    2996   BIC:                             1988.\n",
            "Df Model:                           3                                         \n",
            "Covariance Type:            nonrobust                                         \n",
            "==============================================================================\n",
            "                 coef    std err          t      P>|t|      [0.025      0.975]\n",
            "------------------------------------------------------------------------------\n",
            "const          4.3042      0.030    141.985      0.000       4.245       4.364\n",
            "age            0.0072      0.001     13.487      0.000       0.006       0.008\n",
            "education     -0.0255      0.005     -5.085      0.000      -0.035      -0.016\n",
            "health         0.1463      0.014     10.681      0.000       0.119       0.173\n",
            "==============================================================================\n",
            "Omnibus:                      146.761   Durbin-Watson:                   1.979\n",
            "Prob(Omnibus):                  0.000   Jarque-Bera (JB):              422.153\n",
            "Skew:                          -0.209   Prob(JB):                     2.14e-92\n",
            "Kurtosis:                       4.789   Cond. No.                         224.\n",
            "==============================================================================\n",
            "\n",
            "Warnings:\n",
            "[1] Standard Errors assume that the covariance matrix of the errors is correctly specified.\n"
          ]
        }
      ]
    },
    {
      "cell_type": "code",
      "metadata": {
        "colab": {
          "base_uri": "https://localhost:8080/",
          "height": 513
        },
        "id": "y70bSfHxm_MI",
        "outputId": "3f50c696-bf28-4677-a691-e6802ec8def4"
      },
      "source": [
        "import matplotlib.pyplot as plt\n",
        "plt.rc('figure', figsize=(12, 7))\n",
        "plt.text(0.01, 0.05, str(model1.summary()), {'fontsize': 12}, fontproperties = 'monospace')\n",
        "plt.axis('off')\n",
        "plt.tight_layout()\n",
        "plt.savefig('Result1.png')"
      ],
      "execution_count": 50,
      "outputs": [
        {
          "output_type": "display_data",
          "data": {
            "image/png": "[encoded data removed]",
            "text/plain": [
              "<Figure size 864x504 with 1 Axes>"
            ]
          },
          "metadata": {
            "needs_background": "light"
          }
        }
      ]
    },
    {
      "cell_type": "code",
      "metadata": {
        "id": "bA2VPYV47tcX"
      },
      "source": [
        "x = df['health']\n",
        "y = df['age']"
      ],
      "execution_count": 66,
      "outputs": []
    },
    {
      "cell_type": "code",
      "metadata": {
        "id": "KETGV_pvC4iH",
        "outputId": "d00d7cc4-fa41-4738-8db9-691bbc9bd17c",
        "colab": {
          "base_uri": "https://localhost:8080/"
        }
      },
      "source": [
        "print(y)"
      ],
      "execution_count": 67,
      "outputs": [
        {
          "output_type": "stream",
          "name": "stdout",
          "text": [
            "0       18\n",
            "1       24\n",
            "2       45\n",
            "3       43\n",
            "4       50\n",
            "        ..\n",
            "2995    44\n",
            "2996    30\n",
            "2997    27\n",
            "2998    27\n",
            "2999    55\n",
            "Name: age, Length: 3000, dtype: int64\n"
          ]
        }
      ]
    },
    {
      "cell_type": "code",
      "metadata": {
        "colab": {
          "base_uri": "https://localhost:8080/"
        },
        "id": "-OFWD1zUCLDT",
        "outputId": "175c40c0-cf6c-4b17-8154-617b8e957798"
      },
      "source": [
        "import statsmodels.api as sm\n",
        "x = sm.add_constant(x)\n",
        "model2 = sm.OLS(y, x).fit()\n",
        "results2=model2.summary(alpha=0.05)\n",
        "print(results2)"
      ],
      "execution_count": 68,
      "outputs": [
        {
          "output_type": "stream",
          "name": "stdout",
          "text": [
            "                            OLS Regression Results                            \n",
            "==============================================================================\n",
            "Dep. Variable:                    age   R-squared:                       0.019\n",
            "Model:                            OLS   Adj. R-squared:                  0.019\n",
            "Method:                 Least Squares   F-statistic:                     58.99\n",
            "Date:                Fri, 19 Nov 2021   Prob (F-statistic):           2.14e-14\n",
            "Time:                        11:59:20   Log-Likelihood:                -11565.\n",
            "No. Observations:                3000   AIC:                         2.313e+04\n",
            "Df Residuals:                    2998   BIC:                         2.315e+04\n",
            "Df Model:                           1                                         \n",
            "Covariance Type:            nonrobust                                         \n",
            "==============================================================================\n",
            "                 coef    std err          t      P>|t|      [0.025      0.975]\n",
            "------------------------------------------------------------------------------\n",
            "const         44.9476      0.390    115.163      0.000      44.182      45.713\n",
            "health        -3.5475      0.462     -7.680      0.000      -4.453      -2.642\n",
            "==============================================================================\n",
            "Omnibus:                       45.375   Durbin-Watson:                   2.040\n",
            "Prob(Omnibus):                  0.000   Jarque-Bera (JB):               30.015\n",
            "Skew:                           0.111   Prob(JB):                     3.04e-07\n",
            "Kurtosis:                       2.563   Cond. No.                         3.51\n",
            "==============================================================================\n",
            "\n",
            "Warnings:\n",
            "[1] Standard Errors assume that the covariance matrix of the errors is correctly specified.\n"
          ]
        }
      ]
    },
    {
      "cell_type": "code",
      "metadata": {
        "colab": {
          "base_uri": "https://localhost:8080/",
          "height": 513
        },
        "id": "8kccUVqtB9RN",
        "outputId": "48febac6-9ed7-4038-9a51-e2bfab301ff3"
      },
      "source": [
        "import matplotlib.pyplot as plt\n",
        "plt.rc('figure', figsize=(12, 7))\n",
        "plt.text(0.01, 0.05, str(model2.summary()), {'fontsize': 12}, fontproperties = 'monospace')\n",
        "plt.axis('off')\n",
        "plt.tight_layout()\n",
        "plt.savefig('Result2.png')"
      ],
      "execution_count": 69,
      "outputs": [
        {
          "output_type": "display_data",
          "data": {
            "image/png": "[encoded data removed]",
            "text/plain": [
              "<Figure size 864x504 with 1 Axes>"
            ]
          },
          "metadata": {
            "needs_background": "light"
          }
        }
      ]
    },
    {
      "cell_type": "code",
      "metadata": {
        "id": "Wr7SwvI4EN5g",
        "outputId": "4beed630-63ca-4141-b8ae-175660541477",
        "colab": {
          "base_uri": "https://localhost:8080/"
        }
      },
      "source": [
        "ypred = model2.predict(x)\n",
        "print(ypred)"
      ],
      "execution_count": 72,
      "outputs": [
        {
          "output_type": "stream",
          "name": "stdout",
          "text": [
            "0       44.947552\n",
            "1       41.400093\n",
            "2       44.947552\n",
            "3       41.400093\n",
            "4       44.947552\n",
            "          ...    \n",
            "2995    41.400093\n",
            "2996    41.400093\n",
            "2997    44.947552\n",
            "2998    41.400093\n",
            "2999    44.947552\n",
            "Length: 3000, dtype: float64\n"
          ]
        }
      ]
    },
    {
      "cell_type": "code",
      "metadata": {
        "id": "NhQ85e-3E05R"
      },
      "source": [
        "residual_age=y-ypred"
      ],
      "execution_count": 83,
      "outputs": []
    },
    {
      "cell_type": "code",
      "metadata": {
        "id": "m3I8jvjwE93q",
        "outputId": "941ca6ce-0f51-44f1-8127-4d216a6b3414",
        "colab": {
          "base_uri": "https://localhost:8080/"
        }
      },
      "source": [
        "print(residual_age)"
      ],
      "execution_count": 84,
      "outputs": [
        {
          "output_type": "stream",
          "name": "stdout",
          "text": [
            "0      -530.003497\n",
            "1      -459.002334\n",
            "2       -42.587413\n",
            "3        27.395892\n",
            "4       207.674825\n",
            "           ...    \n",
            "2995     72.995798\n",
            "2996   -383.402894\n",
            "2997   -529.531469\n",
            "2998   -430.202614\n",
            "2999    507.937063\n",
            "Length: 3000, dtype: float64\n"
          ]
        }
      ]
    },
    {
      "cell_type": "code",
      "metadata": {
        "id": "R6YBgMe5GH5w"
      },
      "source": [
        "x = df['health']\n",
        "y = df['education']"
      ],
      "execution_count": 89,
      "outputs": []
    },
    {
      "cell_type": "code",
      "metadata": {
        "id": "xcqMCrx5GOR7",
        "outputId": "551ac702-e6c2-474e-baaf-a46191232bc9",
        "colab": {
          "base_uri": "https://localhost:8080/"
        }
      },
      "source": [
        "import statsmodels.api as sm\n",
        "x = sm.add_constant(x)\n",
        "model3 = sm.OLS(y, x).fit()\n",
        "results3=model3.summary(alpha=0.05)\n",
        "print(results3)"
      ],
      "execution_count": 90,
      "outputs": [
        {
          "output_type": "stream",
          "name": "stdout",
          "text": [
            "                            OLS Regression Results                            \n",
            "==============================================================================\n",
            "Dep. Variable:              education   R-squared:                       0.001\n",
            "Model:                            OLS   Adj. R-squared:                  0.001\n",
            "Method:                 Least Squares   F-statistic:                     4.138\n",
            "Date:                Fri, 19 Nov 2021   Prob (F-statistic):             0.0420\n",
            "Time:                        12:09:17   Log-Likelihood:                -4862.2\n",
            "No. Observations:                3000   AIC:                             9728.\n",
            "Df Residuals:                    2998   BIC:                             9740.\n",
            "Df Model:                           1                                         \n",
            "Covariance Type:            nonrobust                                         \n",
            "==============================================================================\n",
            "                 coef    std err          t      P>|t|      [0.025      0.975]\n",
            "------------------------------------------------------------------------------\n",
            "const          2.5082      0.042     60.022      0.000       2.426       2.590\n",
            "health        -0.1006      0.049     -2.034      0.042      -0.198      -0.004\n",
            "==============================================================================\n",
            "Omnibus:                      259.244   Durbin-Watson:                   2.006\n",
            "Prob(Omnibus):                  0.000   Jarque-Bera (JB):              170.916\n",
            "Skew:                          -0.466   Prob(JB):                     7.69e-38\n",
            "Kurtosis:                       2.295   Cond. No.                         3.51\n",
            "==============================================================================\n",
            "\n",
            "Warnings:\n",
            "[1] Standard Errors assume that the covariance matrix of the errors is correctly specified.\n"
          ]
        }
      ]
    },
    {
      "cell_type": "code",
      "metadata": {
        "id": "8OIPuGptGSYp",
        "outputId": "51a0f527-9c1a-4e94-cf37-e81eba91dbe2",
        "colab": {
          "base_uri": "https://localhost:8080/",
          "height": 513
        }
      },
      "source": [
        "import matplotlib.pyplot as plt\n",
        "plt.rc('figure', figsize=(12, 7))\n",
        "plt.text(0.01, 0.05, str(model3.summary()), {'fontsize': 12}, fontproperties = 'monospace')\n",
        "plt.axis('off')\n",
        "plt.tight_layout()\n",
        "plt.savefig('Result3.png')"
      ],
      "execution_count": 91,
      "outputs": [
        {
          "output_type": "display_data",
          "data": {
            "image/png": "[encoded data removed]",
            "text/plain": [
              "<Figure size 864x504 with 1 Axes>"
            ]
          },
          "metadata": {
            "needs_background": "light"
          }
        }
      ]
    },
    {
      "cell_type": "code",
      "metadata": {
        "id": "N8dda7itGmvq",
        "outputId": "5144d7a3-786b-41d4-8a8b-327b1980e1d4",
        "colab": {
          "base_uri": "https://localhost:8080/"
        }
      },
      "source": [
        "ypred = model3.predict(x)\n",
        "print(ypred)"
      ],
      "execution_count": 92,
      "outputs": [
        {
          "output_type": "stream",
          "name": "stdout",
          "text": [
            "0       2.508159\n",
            "1       2.407563\n",
            "2       2.508159\n",
            "3       2.407563\n",
            "4       2.508159\n",
            "          ...   \n",
            "2995    2.407563\n",
            "2996    2.407563\n",
            "2997    2.508159\n",
            "2998    2.407563\n",
            "2999    2.508159\n",
            "Length: 3000, dtype: float64\n"
          ]
        }
      ]
    },
    {
      "cell_type": "code",
      "metadata": {
        "id": "S8U7RfKAGs4G"
      },
      "source": [
        "residual_education=y-ypred"
      ],
      "execution_count": 93,
      "outputs": []
    },
    {
      "cell_type": "code",
      "metadata": {
        "id": "Vi7lnStXG37B",
        "outputId": "4a81a492-9f10-4999-c705-ef242c089cbb",
        "colab": {
          "base_uri": "https://localhost:8080/"
        }
      },
      "source": [
        "print(residual_education)"
      ],
      "execution_count": 94,
      "outputs": [
        {
          "output_type": "stream",
          "name": "stdout",
          "text": [
            "0      -2.508159\n",
            "1      -0.407563\n",
            "2       1.491841\n",
            "3      -0.407563\n",
            "4       0.491841\n",
            "          ...   \n",
            "2995    1.592437\n",
            "2996    0.592437\n",
            "2997   -2.508159\n",
            "2998    1.592437\n",
            "2999    0.491841\n",
            "Length: 3000, dtype: float64\n"
          ]
        }
      ]
    },
    {
      "cell_type": "code",
      "metadata": {
        "id": "hvlSgRP9G7DM"
      },
      "source": [
        "from google.colab import files\n",
        "residual_education.to_csv('residual_education.csv')"
      ],
      "execution_count": 95,
      "outputs": []
    },
    {
      "cell_type": "code",
      "metadata": {
        "id": "h0zyvEEUTT2U"
      },
      "source": [
        ""
      ],
      "execution_count": 153,
      "outputs": []
    },
    {
      "cell_type": "code",
      "metadata": {
        "id": "3nU15JBjVmpZ"
      },
      "source": [
        ""
      ],
      "execution_count": null,
      "outputs": []
    },
    {
      "cell_type": "code",
      "metadata": {
        "id": "LCAGmdzxUCyQ",
        "outputId": "ef9e265c-9a62-4aa3-a6f3-ee538dd55e48",
        "colab": {
          "base_uri": "https://localhost:8080/"
        }
      },
      "source": [
        "residual_age"
      ],
      "execution_count": 149,
      "outputs": [
        {
          "output_type": "execute_result",
          "data": {
            "text/plain": [
              "residual_age\n",
              "0      -530.003497\n",
              "1      -459.002334\n",
              "2       -42.587413\n",
              "3        27.395892\n",
              "4       207.674825\n",
              "           ...    \n",
              "2995     72.995798\n",
              "2996   -383.402894\n",
              "2997   -529.531469\n",
              "2998   -430.202614\n",
              "2999    507.937063\n",
              "Length: 3000, dtype: float64"
            ]
          },
          "metadata": {},
          "execution_count": 149
        }
      ]
    },
    {
      "cell_type": "code",
      "metadata": {
        "id": "CthT7uLdHbU4"
      },
      "source": [
        "x = pd.concat([residual_age, residual_education], axis = 1)\n",
        "y = df['logwage']"
      ],
      "execution_count": 154,
      "outputs": []
    },
    {
      "cell_type": "code",
      "metadata": {
        "id": "DqSIVOjORH3k",
        "outputId": "336004fb-e285-4979-d85b-82ee7c1edea9",
        "colab": {
          "base_uri": "https://localhost:8080/"
        }
      },
      "source": [
        "print(x)"
      ],
      "execution_count": 155,
      "outputs": [
        {
          "output_type": "stream",
          "name": "stdout",
          "text": [
            "               0         1\n",
            "0    -530.003497 -2.508159\n",
            "1    -459.002334 -0.407563\n",
            "2     -42.587413  1.491841\n",
            "3      27.395892 -0.407563\n",
            "4     207.674825  0.491841\n",
            "...          ...       ...\n",
            "2995   72.995798  1.592437\n",
            "2996 -383.402894  0.592437\n",
            "2997 -529.531469 -2.508159\n",
            "2998 -430.202614  1.592437\n",
            "2999  507.937063  0.491841\n",
            "\n",
            "[3000 rows x 2 columns]\n"
          ]
        }
      ]
    },
    {
      "cell_type": "code",
      "metadata": {
        "id": "EQMGXSQoHxn_",
        "outputId": "862d9fe9-70e5-4123-f9e2-8cd0afdbb942",
        "colab": {
          "base_uri": "https://localhost:8080/"
        }
      },
      "source": [
        "import statsmodels.api as sm\n",
        "x = sm.add_constant(x)\n",
        "model4 = sm.OLS(y, x).fit()\n",
        "results4=model4.summary(alpha=0.05)\n",
        "print(results4)"
      ],
      "execution_count": 131,
      "outputs": [
        {
          "output_type": "stream",
          "name": "stdout",
          "text": [
            "                            OLS Regression Results                            \n",
            "==============================================================================\n",
            "Dep. Variable:                logwage   R-squared:                       0.034\n",
            "Model:                            OLS   Adj. R-squared:                  0.033\n",
            "Method:                 Least Squares   F-statistic:                     52.73\n",
            "Date:                Fri, 19 Nov 2021   Prob (F-statistic):           3.11e-23\n",
            "Time:                        12:59:51   Log-Likelihood:                -1070.0\n",
            "No. Observations:                3000   AIC:                             2146.\n",
            "Df Residuals:                    2997   BIC:                             2164.\n",
            "Df Model:                           2                                         \n",
            "Covariance Type:            nonrobust                                         \n",
            "==============================================================================\n",
            "                 coef    std err          t      P>|t|      [0.025      0.975]\n",
            "------------------------------------------------------------------------------\n",
            "const          4.6450      0.006    725.511      0.000       4.632       4.658\n",
            "0              0.0001    1.2e-05      8.380      0.000    7.71e-05       0.000\n",
            "1             -0.0278      0.005     -5.366      0.000      -0.038      -0.018\n",
            "==============================================================================\n",
            "Omnibus:                      140.989   Durbin-Watson:                   1.988\n",
            "Prob(Omnibus):                  0.000   Jarque-Bera (JB):              392.531\n",
            "Skew:                          -0.208   Prob(JB):                     5.79e-86\n",
            "Kurtosis:                       4.723   Cond. No.                         542.\n",
            "==============================================================================\n",
            "\n",
            "Warnings:\n",
            "[1] Standard Errors assume that the covariance matrix of the errors is correctly specified.\n"
          ]
        }
      ]
    }
  ]
}